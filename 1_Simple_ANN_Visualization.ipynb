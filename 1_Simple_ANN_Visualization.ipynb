{
  "nbformat": 4,
  "nbformat_minor": 0,
  "metadata": {
    "colab": {
      "name": "1. Simple ANN Visualization",
      "provenance": [],
      "toc_visible": true,
      "authorship_tag": "ABX9TyN+WSqRbml8Eu2FFBF0uFUe",
      "include_colab_link": true
    },
    "kernelspec": {
      "name": "python3",
      "display_name": "Python 3"
    }
  },
  "cells": [
    {
      "cell_type": "markdown",
      "metadata": {
        "id": "view-in-github",
        "colab_type": "text"
      },
      "source": [
        "<a href=\"https://colab.research.google.com/github/sarthak247/keras-examples/blob/master/1_Simple_ANN_Visualization.ipynb\" target=\"_parent\"><img src=\"https://colab.research.google.com/assets/colab-badge.svg\" alt=\"Open In Colab\"/></a>"
      ]
    },
    {
      "cell_type": "markdown",
      "metadata": {
        "id": "aQKKdCfVxd_d",
        "colab_type": "text"
      },
      "source": [
        "# Install Libraries"
      ]
    },
    {
      "cell_type": "code",
      "metadata": {
        "id": "51IuAHwguNJN",
        "colab_type": "code",
        "outputId": "b69d80dc-12bb-4988-899b-a1120f66ebdf",
        "colab": {
          "base_uri": "https://localhost:8080/",
          "height": 51
        }
      },
      "source": [
        "!pip3 install ann_visualizer\n",
        "!pip3 install graphviz"
      ],
      "execution_count": 11,
      "outputs": [
        {
          "output_type": "stream",
          "text": [
            "Requirement already satisfied: ann_visualizer in /usr/local/lib/python3.6/dist-packages (2.5)\n",
            "Requirement already satisfied: graphviz in /usr/local/lib/python3.6/dist-packages (0.10.1)\n"
          ],
          "name": "stdout"
        }
      ]
    },
    {
      "cell_type": "markdown",
      "metadata": {
        "id": "ZgqOFd9sxrlX",
        "colab_type": "text"
      },
      "source": [
        "# Check Libraries"
      ]
    },
    {
      "cell_type": "code",
      "metadata": {
        "id": "VC5Jt9R_xuoK",
        "colab_type": "code",
        "outputId": "0ee3c0df-77a9-4ece-ebe5-c575e4d7cc66",
        "colab": {
          "base_uri": "https://localhost:8080/",
          "height": 34
        }
      },
      "source": [
        "!pip3 list | grep \"keras\""
      ],
      "execution_count": 12,
      "outputs": [
        {
          "output_type": "stream",
          "text": [
            "keras-vis                0.4.1          \n"
          ],
          "name": "stdout"
        }
      ]
    },
    {
      "cell_type": "code",
      "metadata": {
        "id": "r9ngZetcx5qZ",
        "colab_type": "code",
        "colab": {}
      },
      "source": [
        "!pip3 list | grep \"ann_visualizer\""
      ],
      "execution_count": 0,
      "outputs": []
    },
    {
      "cell_type": "code",
      "metadata": {
        "id": "-QW7Zsxix6Ur",
        "colab_type": "code",
        "outputId": "446541c3-2c03-4ebc-87be-e732d303c740",
        "colab": {
          "base_uri": "https://localhost:8080/",
          "height": 34
        }
      },
      "source": [
        "!pip3 list | grep \"graphviz\""
      ],
      "execution_count": 14,
      "outputs": [
        {
          "output_type": "stream",
          "text": [
            "graphviz                 0.10.1         \n"
          ],
          "name": "stdout"
        }
      ]
    },
    {
      "cell_type": "markdown",
      "metadata": {
        "id": "HVOZjkygxxzP",
        "colab_type": "text"
      },
      "source": [
        "# Import Libraries"
      ]
    },
    {
      "cell_type": "code",
      "metadata": {
        "id": "YbuqrtvYxbUO",
        "colab_type": "code",
        "colab": {}
      },
      "source": [
        "import keras\n",
        "from keras.models import Sequential\n",
        "from keras.layers import Dense\n",
        "from keras.utils import plot_model\n",
        "from ann_visualizer.visualize import ann_viz;"
      ],
      "execution_count": 0,
      "outputs": []
    },
    {
      "cell_type": "markdown",
      "metadata": {
        "id": "7QxKPEObx_ao",
        "colab_type": "text"
      },
      "source": [
        "# Create ANN Model"
      ]
    },
    {
      "cell_type": "code",
      "metadata": {
        "id": "Xm5HrZRguscl",
        "colab_type": "code",
        "colab": {}
      },
      "source": [
        "# Get Base Model\n",
        "model = Sequential()"
      ],
      "execution_count": 0,
      "outputs": []
    },
    {
      "cell_type": "code",
      "metadata": {
        "id": "stIbls3Gu7hL",
        "colab_type": "code",
        "colab": {}
      },
      "source": [
        "# Add Layers to Model\n",
        "model.add(Dense(5, input_shape=(3,),activation='relu'))\n",
        "model.add(Dense(5, activation='relu'))\n",
        "model.add(Dense(5, activation='relu'))\n",
        "model.add(Dense(2, activation='softmax'))"
      ],
      "execution_count": 0,
      "outputs": []
    },
    {
      "cell_type": "code",
      "metadata": {
        "id": "OkHaHuUxvVSR",
        "colab_type": "code",
        "outputId": "a737db0f-9c31-4306-b69c-bd17f278f218",
        "colab": {
          "base_uri": "https://localhost:8080/",
          "height": 289
        }
      },
      "source": [
        "# Get Summary of Model\n",
        "model.summary()"
      ],
      "execution_count": 18,
      "outputs": [
        {
          "output_type": "stream",
          "text": [
            "Model: \"sequential_2\"\n",
            "_________________________________________________________________\n",
            "Layer (type)                 Output Shape              Param #   \n",
            "=================================================================\n",
            "dense_5 (Dense)              (None, 5)                 20        \n",
            "_________________________________________________________________\n",
            "dense_6 (Dense)              (None, 5)                 30        \n",
            "_________________________________________________________________\n",
            "dense_7 (Dense)              (None, 5)                 30        \n",
            "_________________________________________________________________\n",
            "dense_8 (Dense)              (None, 2)                 12        \n",
            "=================================================================\n",
            "Total params: 92\n",
            "Trainable params: 92\n",
            "Non-trainable params: 0\n",
            "_________________________________________________________________\n"
          ],
          "name": "stdout"
        }
      ]
    },
    {
      "cell_type": "markdown",
      "metadata": {
        "id": "Q5KFJm0gyNUT",
        "colab_type": "text"
      },
      "source": [
        "# Visualize ANN"
      ]
    },
    {
      "cell_type": "code",
      "metadata": {
        "id": "u6t8jXHWv3Qx",
        "colab_type": "code",
        "outputId": "cf5da5dc-c9cf-48d0-a314-940a7a6e46ae",
        "colab": {
          "base_uri": "https://localhost:8080/",
          "height": 533
        }
      },
      "source": [
        "plot_model(model, to_file='model.png', show_shapes=True)"
      ],
      "execution_count": 19,
      "outputs": [
        {
          "output_type": "execute_result",
          "data": {
            "image/png": "[encoded data removed]",
            "text/plain": [
              "<IPython.core.display.Image object>"
            ]
          },
          "metadata": {
            "tags": []
          },
          "execution_count": 19
        }
      ]
    },
    {
      "cell_type": "code",
      "metadata": {
        "id": "dlmNiI7dwxkU",
        "colab_type": "code",
        "colab": {}
      },
      "source": [
        "ann_viz(model, title=\"My First ANN Implementation\", filename='model')"
      ],
      "execution_count": 0,
      "outputs": []
    }
  ]
}